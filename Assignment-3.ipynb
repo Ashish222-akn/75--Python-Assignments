{
 "cells": [
  {
   "cell_type": "markdown",
   "id": "4ddb132b-cc22-4591-be59-53349af80e95",
   "metadata": {},
   "source": [
    "# 1. Write a Python Program to Check if a Number is Positive, Negative or Zero?"
   ]
  },
  {
   "cell_type": "code",
   "execution_count": 74,
   "id": "574f93ec-2670-4464-8670-ed7c977fdf97",
   "metadata": {},
   "outputs": [
    {
     "name": "stdin",
     "output_type": "stream",
     "text": [
      "Enter any Number : 12\n"
     ]
    },
    {
     "name": "stdout",
     "output_type": "stream",
     "text": [
      "Number is Positive\n"
     ]
    }
   ],
   "source": [
    "try:\n",
    "    num=int(input(\"Enter any Number :\"))\n",
    "\n",
    "    if num==0:\n",
    "        print(\"Number equals to Zero\")\n",
    "    elif num>0:\n",
    "        print(\"Number is Positive\")\n",
    "    else:\n",
    "        print(\"Number is Negative\")\n",
    "except Exception as e:\n",
    "    print(\"enter numeric digits only\")\n",
    "        "
   ]
  },
  {
   "cell_type": "markdown",
   "id": "9a1ce032-faf5-486d-8539-b9f7742bf636",
   "metadata": {},
   "source": [
    "# 2. Write a Python Program to Check if a Number is Odd or Even?"
   ]
  },
  {
   "cell_type": "code",
   "execution_count": 83,
   "id": "bcc2f53f-e221-4ecd-b110-faf9f269e3e7",
   "metadata": {},
   "outputs": [
    {
     "name": "stdin",
     "output_type": "stream",
     "text": [
      "Enter Any Number 3\n"
     ]
    },
    {
     "name": "stdout",
     "output_type": "stream",
     "text": [
      "3: is an Odd Number\n"
     ]
    }
   ],
   "source": [
    "num=int(input(\"Enter Any Number\"))\n",
    "\n",
    "if num%2==0:\n",
    "    print(f\"{num}: is an Even Number \")\n",
    "else:\n",
    "    print(f\"{num}: is an Odd Number\")"
   ]
  },
  {
   "cell_type": "markdown",
   "id": "f4f33522-a711-42c8-8a86-cabf432a7d62",
   "metadata": {},
   "source": [
    "# 3 . write a python Program to check leap year or not ?"
   ]
  },
  {
   "cell_type": "code",
   "execution_count": 101,
   "id": "aec4d6d0-26de-40fe-9554-3b242566af19",
   "metadata": {},
   "outputs": [
    {
     "name": "stdin",
     "output_type": "stream",
     "text": [
      "Enter any year assssss\n"
     ]
    },
    {
     "name": "stdout",
     "output_type": "stream",
     "text": [
      "Enter numberic value\n"
     ]
    }
   ],
   "source": [
    "try:\n",
    "    year=int(input(\"Enter any year\"))\n",
    "         \n",
    "    if year%400==0 and year%100==0:\n",
    "        print(f\"{year}: is a leap year\")\n",
    "    elif year%4==0 and year%10!=0:\n",
    "        print(f\"{year}: is a leap year\")\n",
    "    else:\n",
    "        print(f\"{year}: is not a leap year\")\n",
    "\n",
    "except Exception as e :\n",
    "    print(\"Enter numberic value only\")\n"
   ]
  },
  {
   "cell_type": "markdown",
   "id": "a573e11b-c260-4e5e-bca1-6fceac4a3e54",
   "metadata": {},
   "source": [
    "# 4. Write a Python Program to Check Prime Number?"
   ]
  },
  {
   "cell_type": "code",
   "execution_count": 158,
   "id": "185c13f5-5a82-4341-be85-159bc349412e",
   "metadata": {},
   "outputs": [
    {
     "name": "stdin",
     "output_type": "stream",
     "text": [
      "Enter any Number 5\n"
     ]
    },
    {
     "name": "stdout",
     "output_type": "stream",
     "text": [
      "5: is a prime Number\n"
     ]
    }
   ],
   "source": [
    "num=int(input(\"Enter any Number\"))\n",
    "if num==0 or num==1:\n",
    "    print(f\"{num}: is not a prime number\")\n",
    "elif num>1:\n",
    "    for item in range(2,num):\n",
    "        if num%item==0:\n",
    "            print(f\"{num}: is not a prime number\")\n",
    "            break\n",
    "    else:\n",
    "         print(f\"{num}: is a prime Number\")\n",
    "else:\n",
    "    print(f\"{num}: is not a prime number\")"
   ]
  },
  {
   "cell_type": "markdown",
   "id": "2cdbb046-1129-4e53-bc6f-45c78ae65d22",
   "metadata": {},
   "source": []
  },
  {
   "cell_type": "code",
   "execution_count": null,
   "id": "ea00d71f-5446-4286-8685-8a48c0a932cb",
   "metadata": {},
   "outputs": [],
   "source": []
  },
  {
   "cell_type": "code",
   "execution_count": null,
   "id": "0b9519f7-edd9-4e93-8f5e-7a232b23392e",
   "metadata": {},
   "outputs": [],
   "source": []
  },
  {
   "cell_type": "code",
   "execution_count": null,
   "id": "f8ebcad7-922a-4d8d-8528-c4e8170f0963",
   "metadata": {},
   "outputs": [],
   "source": []
  },
  {
   "cell_type": "code",
   "execution_count": null,
   "id": "1581a190-92ac-4617-9dc4-e7da241ee014",
   "metadata": {},
   "outputs": [],
   "source": []
  },
  {
   "cell_type": "markdown",
   "id": "1c4c441a-65f6-4218-a265-0c5813d33a8b",
   "metadata": {},
   "source": [
    "# 5. Write a Python Program to Print all Prime Numbers in an Interval of 1-1000?"
   ]
  },
  {
   "cell_type": "code",
   "execution_count": 17,
   "id": "8f32d9bd-a2b2-4345-937e-dbc849cde986",
   "metadata": {},
   "outputs": [
    {
     "name": "stdout",
     "output_type": "stream",
     "text": [
      "i am checking 1 is prime or not \n",
      "1 is prime number\n",
      "i am checking 2 is prime or not \n",
      "2 is prime number\n",
      "i am checking 3 is prime or not \n",
      "3 is prime number\n",
      "i am checking 4 is prime or not \n",
      "this no. is divided by 2 so it is nit prime no.\n",
      "i am checking 5 is prime or not \n",
      "5 is prime number\n",
      "i am checking 6 is prime or not \n",
      "this no. is divided by 2 so it is nit prime no.\n",
      "i am checking 7 is prime or not \n",
      "7 is prime number\n",
      "i am checking 8 is prime or not \n",
      "this no. is divided by 2 so it is nit prime no.\n",
      "i am checking 9 is prime or not \n",
      "this no. is divided by 3 so it is nit prime no.\n",
      "i am checking 10 is prime or not \n",
      "this no. is divided by 2 so it is nit prime no.\n",
      "i am checking 11 is prime or not \n",
      "11 is prime number\n",
      "i am checking 12 is prime or not \n",
      "this no. is divided by 2 so it is nit prime no.\n",
      "i am checking 13 is prime or not \n",
      "13 is prime number\n",
      "i am checking 14 is prime or not \n",
      "this no. is divided by 2 so it is nit prime no.\n",
      "i am checking 15 is prime or not \n",
      "this no. is divided by 3 so it is nit prime no.\n",
      "i am checking 16 is prime or not \n",
      "this no. is divided by 2 so it is nit prime no.\n",
      "i am checking 17 is prime or not \n",
      "17 is prime number\n",
      "i am checking 18 is prime or not \n",
      "this no. is divided by 2 so it is nit prime no.\n",
      "i am checking 19 is prime or not \n",
      "19 is prime number\n",
      "i am checking 20 is prime or not \n",
      "this no. is divided by 2 so it is nit prime no.\n",
      "i am checking 21 is prime or not \n",
      "this no. is divided by 3 so it is nit prime no.\n",
      "i am checking 22 is prime or not \n",
      "this no. is divided by 2 so it is nit prime no.\n",
      "i am checking 23 is prime or not \n",
      "23 is prime number\n",
      "i am checking 24 is prime or not \n",
      "this no. is divided by 2 so it is nit prime no.\n",
      "i am checking 25 is prime or not \n",
      "this no. is divided by 5 so it is nit prime no.\n",
      "i am checking 26 is prime or not \n",
      "this no. is divided by 2 so it is nit prime no.\n",
      "i am checking 27 is prime or not \n",
      "this no. is divided by 3 so it is nit prime no.\n",
      "i am checking 28 is prime or not \n",
      "this no. is divided by 2 so it is nit prime no.\n",
      "i am checking 29 is prime or not \n",
      "29 is prime number\n",
      "i am checking 30 is prime or not \n",
      "this no. is divided by 2 so it is nit prime no.\n",
      "i am checking 31 is prime or not \n",
      "31 is prime number\n",
      "i am checking 32 is prime or not \n",
      "this no. is divided by 2 so it is nit prime no.\n",
      "i am checking 33 is prime or not \n",
      "this no. is divided by 3 so it is nit prime no.\n",
      "i am checking 34 is prime or not \n",
      "this no. is divided by 2 so it is nit prime no.\n",
      "i am checking 35 is prime or not \n",
      "this no. is divided by 5 so it is nit prime no.\n",
      "i am checking 36 is prime or not \n",
      "this no. is divided by 2 so it is nit prime no.\n",
      "i am checking 37 is prime or not \n",
      "37 is prime number\n",
      "i am checking 38 is prime or not \n",
      "this no. is divided by 2 so it is nit prime no.\n",
      "i am checking 39 is prime or not \n",
      "this no. is divided by 3 so it is nit prime no.\n",
      "i am checking 40 is prime or not \n",
      "this no. is divided by 2 so it is nit prime no.\n",
      "i am checking 41 is prime or not \n",
      "41 is prime number\n",
      "i am checking 42 is prime or not \n",
      "this no. is divided by 2 so it is nit prime no.\n",
      "i am checking 43 is prime or not \n",
      "43 is prime number\n",
      "i am checking 44 is prime or not \n",
      "this no. is divided by 2 so it is nit prime no.\n",
      "i am checking 45 is prime or not \n",
      "this no. is divided by 3 so it is nit prime no.\n",
      "i am checking 46 is prime or not \n",
      "this no. is divided by 2 so it is nit prime no.\n",
      "i am checking 47 is prime or not \n",
      "47 is prime number\n",
      "i am checking 48 is prime or not \n",
      "this no. is divided by 2 so it is nit prime no.\n",
      "i am checking 49 is prime or not \n",
      "this no. is divided by 7 so it is nit prime no.\n",
      "i am checking 50 is prime or not \n",
      "this no. is divided by 2 so it is nit prime no.\n"
     ]
    }
   ],
   "source": [
    "for j in range(1,51):\n",
    "    print(f\"i am checking {j} is prime or not \")\n",
    "    for i in range(2,int(j**0.5)+1):\n",
    "        if j%i==0:\n",
    "            print(f\"this no. is divided by {i} so it is nit prime no.\")\n",
    "            break\n",
    "    else:\n",
    "        print(f\"{j} is prime number\")\n",
    "    \n",
    "    "
   ]
  },
  {
   "cell_type": "code",
   "execution_count": null,
   "id": "1aac4101-f6c6-487a-b720-1c6d0754c33f",
   "metadata": {},
   "outputs": [],
   "source": [
    "# appending all pirme number in a list and sum of item in a list , through function ?\n",
    "\n",
    "primeNumber=[]\n",
    "\n",
    "def check_prime(first_range,last_range):\n",
    "    \n",
    "    for j in range(first_range,last_range):\n",
    "        for i in range(2,int(j**0.5)+1):\n",
    "             if j%i==0:\n",
    "                 break\n",
    "        else:\n",
    "             \n",
    "             primeNumber.append(j)\n",
    "             \n",
    "    print(f\"Prime Numbers:\",primeNumber)\n",
    "    print(f\"total->\",sum(primeNumber))\n",
    "\n",
    "try:\n",
    "    first_range=int(input(\"enter first range\"))\n",
    "    second_range=int(input(\"enter second range\"))\n",
    "    check_prime(first_range,second_range)\n",
    "\n",
    "except Exception as e:\n",
    "    print(e)\n",
    "\n",
    "\n"
   ]
  },
  {
   "cell_type": "code",
   "execution_count": null,
   "id": "70ba5c09-de85-42e3-bdc2-bdf085725ee3",
   "metadata": {},
   "outputs": [],
   "source": []
  }
 ],
 "metadata": {
  "kernelspec": {
   "display_name": "Python 3 (ipykernel)",
   "language": "python",
   "name": "python3"
  },
  "language_info": {
   "codemirror_mode": {
    "name": "ipython",
    "version": 3
   },
   "file_extension": ".py",
   "mimetype": "text/x-python",
   "name": "python",
   "nbconvert_exporter": "python",
   "pygments_lexer": "ipython3",
   "version": "3.12.7"
  }
 },
 "nbformat": 4,
 "nbformat_minor": 5
}
