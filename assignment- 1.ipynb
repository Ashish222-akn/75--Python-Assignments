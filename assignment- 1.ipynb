{
 "cells": [
  {
   "cell_type": "markdown",
   "id": "354dee46-6d21-48f1-9513-faaf44072e89",
   "metadata": {},
   "source": [
    "#  1. Write a Python program to print Hello Python ?"
   ]
  },
  {
   "cell_type": "code",
   "execution_count": 2,
   "id": "8391fcb7-2f9c-48f4-9d97-5e9030e29c0d",
   "metadata": {},
   "outputs": [
    {
     "name": "stdout",
     "output_type": "stream",
     "text": [
      "hello python\n"
     ]
    }
   ],
   "source": [
    "print(\"hello python\")"
   ]
  },
  {
   "cell_type": "markdown",
   "id": "1b542559-8219-44fc-91c9-fd55ba7015eb",
   "metadata": {},
   "source": [
    "#  2. Write a Python program to do arithmetical operations addition and division.?\n"
   ]
  },
  {
   "cell_type": "code",
   "execution_count": 11,
   "id": "84e841e5-5ecd-4dfd-b02e-3c41745534d9",
   "metadata": {},
   "outputs": [
    {
     "name": "stdout",
     "output_type": "stream",
     "text": [
      "Addition is: 10\n",
      "Division is: 0\n"
     ]
    }
   ],
   "source": [
    "num1= 5\n",
    "num2= 5\n",
    "total= num1+num2\n",
    "div=num1%num2\n",
    "print(\"Addition is:\",total)\n",
    "print(\"Division is:\",div)"
   ]
  },
  {
   "cell_type": "markdown",
   "id": "e17f8e76-a22d-48cb-ab05-4b23854d5aac",
   "metadata": {},
   "source": [
    "# 3. Write a Python program to find the area of a triangle?\n"
   ]
  },
  {
   "cell_type": "code",
   "execution_count": 16,
   "id": "3cfb7d1f-681e-4534-b013-696324679b73",
   "metadata": {},
   "outputs": [
    {
     "name": "stdin",
     "output_type": "stream",
     "text": [
      "enter base: 12\n",
      "enter height: 2\n"
     ]
    },
    {
     "name": "stdout",
     "output_type": "stream",
     "text": [
      "area of triangle is : 12.0\n"
     ]
    }
   ],
   "source": [
    "base=int(input(\"enter base:\"))\n",
    "height=int(input(\"enter height:\"))\n",
    "\n",
    "area=(base*height)/2\n",
    "\n",
    "print(\"area of triangle is :\", area)"
   ]
  },
  {
   "cell_type": "markdown",
   "id": "8f0ee27c-0e8a-4345-aa66-0b20489fc2c4",
   "metadata": {},
   "source": [
    "# 3. Write a Python program to find the area of a triangle?"
   ]
  },
  {
   "cell_type": "code",
   "execution_count": 45,
   "id": "536cba95-958f-475b-ab41-bd1f849f3f95",
   "metadata": {},
   "outputs": [
    {
     "name": "stdout",
     "output_type": "stream",
     "text": [
      "first variable: 50\n",
      "second variable: 20\n"
     ]
    }
   ],
   "source": [
    "vari1=20\n",
    "vari2=50\n",
    "vari1,vari2=vari2,vari1\n",
    "\n",
    "print(\"first variable:\",vari1)\n",
    "print(\"second variable:\",vari2)"
   ]
  },
  {
   "cell_type": "code",
   "execution_count": null,
   "id": "35a170e4-c3a7-4724-81b0-8bb41ddee799",
   "metadata": {},
   "outputs": [],
   "source": []
  },
  {
   "cell_type": "markdown",
   "id": "f531c52e-f9cd-42a6-961a-ccadc2e09eaf",
   "metadata": {},
   "source": [
    "# 5. Write a Python program to generate a random number?"
   ]
  },
  {
   "cell_type": "code",
   "execution_count": 51,
   "id": "1818a6c2-174f-474a-a9a9-0e32ef1c8545",
   "metadata": {},
   "outputs": [
    {
     "name": "stdout",
     "output_type": "stream",
     "text": [
      "8248\n"
     ]
    }
   ],
   "source": [
    "import random\n",
    "\n",
    "random_num=random.randint(1000,10000)\n",
    "\n",
    "print(random_num)"
   ]
  },
  {
   "cell_type": "code",
   "execution_count": 47,
   "id": "fccdb3bc-2894-4d07-8a9b-f48c38cbd73b",
   "metadata": {},
   "outputs": [
    {
     "data": {
      "text/plain": [
       "0.6873093108739982"
      ]
     },
     "execution_count": 47,
     "metadata": {},
     "output_type": "execute_result"
    }
   ],
   "source": [
    "import random\n",
    "                                            # give nio. from 0 to 1\n",
    "random.random()"
   ]
  },
  {
   "cell_type": "code",
   "execution_count": 65,
   "id": "5fc79371-9e22-47ef-aa8a-5d1790670892",
   "metadata": {},
   "outputs": [
    {
     "data": {
      "text/plain": [
       "25"
      ]
     },
     "execution_count": 65,
     "metadata": {},
     "output_type": "execute_result"
    }
   ],
   "source": [
    "import random\n",
    "\n",
    "random.randrange(1,100,2)\n"
   ]
  },
  {
   "cell_type": "code",
   "execution_count": null,
   "id": "6374a08b-bc6d-4bf4-beb2-52d510dcdbf1",
   "metadata": {},
   "outputs": [],
   "source": []
  }
 ],
 "metadata": {
  "kernelspec": {
   "display_name": "Python 3 (ipykernel)",
   "language": "python",
   "name": "python3"
  },
  "language_info": {
   "codemirror_mode": {
    "name": "ipython",
    "version": 3
   },
   "file_extension": ".py",
   "mimetype": "text/x-python",
   "name": "python",
   "nbconvert_exporter": "python",
   "pygments_lexer": "ipython3",
   "version": "3.12.7"
  }
 },
 "nbformat": 4,
 "nbformat_minor": 5
}
