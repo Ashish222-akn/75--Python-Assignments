{
 "cells": [
  {
   "cell_type": "markdown",
   "id": "ac97d97b-6275-4fdf-9649-852a23c2e287",
   "metadata": {},
   "source": [
    "# 1 -write a program to convert km to miles ?"
   ]
  },
  {
   "cell_type": "code",
   "execution_count": 50,
   "id": "f3f3659f-ac17-444a-abe6-3787ef3b8f31",
   "metadata": {},
   "outputs": [
    {
     "name": "stdin",
     "output_type": "stream",
     "text": [
      "Enter kilometers: 156\n"
     ]
    },
    {
     "name": "stdout",
     "output_type": "stream",
     "text": [
      "In 156 Kilometers thier is 96.876 Miles\n"
     ]
    }
   ],
   "source": [
    "# simple program\n",
    "\n",
    "kilometer=int(input(\"Enter kilometers:\"))\n",
    "miles=(kilometer*0.621)\n",
    "\n",
    "print(f\"In {kilometer} Kilometers thier is {miles} Miles\")"
   ]
  },
  {
   "cell_type": "code",
   "execution_count": 79,
   "id": "534dd15c-6631-436a-878f-21dfff90b467",
   "metadata": {},
   "outputs": [
    {
     "name": "stdin",
     "output_type": "stream",
     "text": [
      "Enter kilometers: 156\n"
     ]
    },
    {
     "data": {
      "text/plain": [
       "'In 156 Kilometers thier is 96.876 Miles'"
      ]
     },
     "execution_count": 79,
     "metadata": {},
     "output_type": "execute_result"
    }
   ],
   "source": [
    "# program through function.\n",
    "\n",
    "def km_miles(kilometers):\n",
    "    miles=(kilometer*0.621)\n",
    "    return f\"In {kilometer} Kilometers thier is {miles} Miles\"\n",
    "kilometer=int(input(\"Enter kilometers:\"))\n",
    "km_miles(kilometer)"
   ]
  },
  {
   "cell_type": "markdown",
   "id": "62b4a59a-2118-4081-95d0-98d4a153a122",
   "metadata": {},
   "source": [
    "# 2- Write a program to convert celsius to farenheit?\n"
   ]
  },
  {
   "cell_type": "code",
   "execution_count": 62,
   "id": "827181dc-0a76-4275-bcab-ac9e839e3d77",
   "metadata": {},
   "outputs": [
    {
     "name": "stdin",
     "output_type": "stream",
     "text": [
      "Enter tempertaure in celsius: 79\n"
     ]
    },
    {
     "name": "stdout",
     "output_type": "stream",
     "text": [
      "temperature in farenheit is: 174.2\n"
     ]
    }
   ],
   "source": [
    "# simple program \n",
    "\n",
    "celsius=float(input(\"Enter tempertaure in celsius:\"))\n",
    "farenheit= ((celsius*9)/5)+32\n",
    "\n",
    "print(f\"temperature in farenheit is: {farenheit}\")"
   ]
  },
  {
   "cell_type": "code",
   "execution_count": 73,
   "id": "990af68c-98c7-44ed-a175-dfb59561e7ee",
   "metadata": {},
   "outputs": [
    {
     "name": "stdin",
     "output_type": "stream",
     "text": [
      "Enter tempertaure in celsius: 79\n"
     ]
    },
    {
     "data": {
      "text/plain": [
       "'temperature in farenheit is: 174.2'"
      ]
     },
     "execution_count": 73,
     "metadata": {},
     "output_type": "execute_result"
    }
   ],
   "source": [
    "# program through function.\n",
    "\n",
    "def temperature_convertor(celsius):\n",
    "    farenheit= ((celsius*9)/5)+32\n",
    "    return f\"temperature in farenheit is: {farenheit}\"\n",
    "celsius=float(input(\"Enter tempertaure in celsius:\"))\n",
    "temperature_convertor(celsius)"
   ]
  },
  {
   "cell_type": "markdown",
   "id": "6d1b3132-b369-4705-a082-87197cb9d4aa",
   "metadata": {},
   "source": [
    "# 3- write a program to display calander ."
   ]
  },
  {
   "cell_type": "code",
   "execution_count": 93,
   "id": "b6c86e83-7984-49c9-bc6a-c87076d73b80",
   "metadata": {},
   "outputs": [
    {
     "name": "stdout",
     "output_type": "stream",
     "text": [
      "    January 2024\n",
      "Mo Tu We Th Fr Sa Su\n",
      " 1  2  3  4  5  6  7\n",
      " 8  9 10 11 12 13 14\n",
      "15 16 17 18 19 20 21\n",
      "22 23 24 25 26 27 28\n",
      "29 30 31\n",
      "\n"
     ]
    }
   ],
   "source": [
    "# simple calander \n",
    "\n",
    "import calendar\n",
    "\n",
    "\n",
    "print(calendar.month(2024,1))\n"
   ]
  },
  {
   "cell_type": "code",
   "execution_count": 115,
   "id": "74bae20d-5b98-4bf6-bbe3-4b41634930a2",
   "metadata": {},
   "outputs": [],
   "source": [
    "# trrough function.\n",
    "\n",
    "import calendar\n",
    "\n",
    "def calender_function(year,month):\n",
    "    return calendar.month(year,month)"
   ]
  },
  {
   "cell_type": "code",
   "execution_count": 117,
   "id": "7f8cabe9-6693-45d6-8e17-c47a899926a5",
   "metadata": {},
   "outputs": [
    {
     "data": {
      "text/plain": [
       "'    January 2024\\nMo Tu We Th Fr Sa Su\\n 1  2  3  4  5  6  7\\n 8  9 10 11 12 13 14\\n15 16 17 18 19 20 21\\n22 23 24 25 26 27 28\\n29 30 31\\n'"
      ]
     },
     "execution_count": 117,
     "metadata": {},
     "output_type": "execute_result"
    }
   ],
   "source": [
    "calender_function(2024,1)"
   ]
  },
  {
   "cell_type": "markdown",
   "id": "9b68d13d-ad0d-4ffc-8224-3314972a9ed2",
   "metadata": {},
   "source": [
    "# 4 - write a program to solve quardratic equation.\n"
   ]
  },
  {
   "cell_type": "code",
   "execution_count": 126,
   "id": "8aab3ed3-d113-4600-ac65-473afb6f4769",
   "metadata": {},
   "outputs": [
    {
     "name": "stdin",
     "output_type": "stream",
     "text": [
      "enter value of a: 2\n",
      "enter value of b: 3\n",
      "enter value of c: 4\n"
     ]
    },
    {
     "name": "stdout",
     "output_type": "stream",
     "text": [
      "(-3+4.795831523312719j) (-3-4.795831523312719j)\n"
     ]
    }
   ],
   "source": [
    "import cmath\n",
    "a=int(input(\"enter value of a:\"))\n",
    "b=int(input(\"enter value of b:\"))\n",
    "c=int(input(\"enter value of c:\"))\n",
    "\n",
    "first_squ= -b+cmath.sqrt(b**2-4*a*c)/2*a\n",
    "second_squ= -b -cmath.sqrt(b**2-4*a*c)/2*a\n",
    "\n",
    "print(first_squ,second_squ)\n"
   ]
  },
  {
   "cell_type": "markdown",
   "id": "b613c7f9-14aa-4764-be07-827514efa266",
   "metadata": {},
   "source": [
    "# 5- write a program to swap two variable without taking third variable"
   ]
  },
  {
   "cell_type": "code",
   "execution_count": 131,
   "id": "d484fd87-e20c-4fcd-90ad-18a85ae3ba0e",
   "metadata": {},
   "outputs": [
    {
     "name": "stdout",
     "output_type": "stream",
     "text": [
      "first variable: 20\n",
      "second variable: 10\n"
     ]
    }
   ],
   "source": [
    "first_var=10\n",
    "second_var=20\n",
    "\n",
    "first_var,second_var=second_var,first_var\n",
    "\n",
    "print(f\"first variable:\",first_var)\n",
    "print(f\"second variable:\",second_var)"
   ]
  },
  {
   "cell_type": "code",
   "execution_count": null,
   "id": "4c62c4db-7dc8-45d1-8544-2839703f03c5",
   "metadata": {},
   "outputs": [],
   "source": []
  }
 ],
 "metadata": {
  "kernelspec": {
   "display_name": "Python 3 (ipykernel)",
   "language": "python",
   "name": "python3"
  },
  "language_info": {
   "codemirror_mode": {
    "name": "ipython",
    "version": 3
   },
   "file_extension": ".py",
   "mimetype": "text/x-python",
   "name": "python",
   "nbconvert_exporter": "python",
   "pygments_lexer": "ipython3",
   "version": "3.12.7"
  }
 },
 "nbformat": 4,
 "nbformat_minor": 5
}
