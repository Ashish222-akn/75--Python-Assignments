{
 "cells": [
  {
   "cell_type": "markdown",
   "id": "6a5677ca-7472-400e-ac1b-ef0a71f71a61",
   "metadata": {},
   "source": [
    "# 1. Write a Python Program to Find the Factorial of a Number?"
   ]
  },
  {
   "cell_type": "code",
   "execution_count": 1,
   "id": "c7c0f650-afb8-426e-9a31-35bad9d86532",
   "metadata": {},
   "outputs": [
    {
     "name": "stdout",
     "output_type": "stream",
     "text": [
      "120\n"
     ]
    }
   ],
   "source": [
    "factorial=1\n",
    "for i in range(5,1,-1):\n",
    "  factorial=factorial*i\n",
    "print(factorial) "
   ]
  },
  {
   "cell_type": "code",
   "execution_count": 45,
   "id": "d5a7b855-de5a-4914-bf06-6163012565e8",
   "metadata": {},
   "outputs": [
    {
     "data": {
      "text/plain": [
       "120"
      ]
     },
     "execution_count": 45,
     "metadata": {},
     "output_type": "execute_result"
    }
   ],
   "source": [
    "import math\n",
    "math.factorial(5)"
   ]
  },
  {
   "cell_type": "code",
   "execution_count": 15,
   "id": "96f3d198-8e2f-4e43-986d-32258a14ad45",
   "metadata": {},
   "outputs": [
    {
     "name": "stdin",
     "output_type": "stream",
     "text": [
      "Enter any number 5\n"
     ]
    },
    {
     "name": "stdout",
     "output_type": "stream",
     "text": [
      "120\n"
     ]
    }
   ],
   "source": [
    "### in a function\n",
    "\n",
    "def factorial(number):\n",
    "    factorial=1\n",
    "    for i in range(number,1,-1):\n",
    "        factorial=factorial*i\n",
    "    print(factorial)\n",
    "\n",
    "number=int(input(\"Enter any number\"))\n",
    "factorial(number)"
   ]
  },
  {
   "cell_type": "markdown",
   "id": "b9c9a1cf-5eec-4bc1-9bd3-e96fe2a1ed9a",
   "metadata": {},
   "source": [
    "# 2. Write a Python Program to Display the multiplication Table?"
   ]
  },
  {
   "cell_type": "code",
   "execution_count": 90,
   "id": "47ed3b24-587e-47c3-a84e-7570744c5d79",
   "metadata": {},
   "outputs": [
    {
     "name": "stdout",
     "output_type": "stream",
     "text": [
      "8 x 1 = 8\n",
      "8 x 2 = 16\n",
      "8 x 3 = 24\n",
      "8 x 4 = 32\n",
      "8 x 5 = 40\n",
      "8 x 6 = 48\n",
      "8 x 7 = 56\n",
      "8 x 8 = 64\n",
      "8 x 9 = 72\n",
      "8 x 10 = 80\n"
     ]
    }
   ],
   "source": [
    "number=8\n",
    "for i in range(1,11):\n",
    "    total=number*i\n",
    "    print(f\"{number} x {i} = {total}\")"
   ]
  },
  {
   "cell_type": "code",
   "execution_count": 7,
   "id": "3bc38208-3224-4e05-8fcb-a50a418b5c29",
   "metadata": {},
   "outputs": [
    {
     "name": "stdin",
     "output_type": "stream",
     "text": [
      "enter the number: 2\n"
     ]
    },
    {
     "name": "stdout",
     "output_type": "stream",
     "text": [
      "2 x 1 = 2\n",
      "2 x 2 = 4\n",
      "2 x 3 = 6\n",
      "2 x 4 = 8\n",
      "2 x 5 = 10\n",
      "2 x 6 = 12\n",
      "2 x 7 = 14\n",
      "2 x 8 = 16\n",
      "2 x 9 = 18\n",
      "2 x 10 = 20\n"
     ]
    }
   ],
   "source": [
    "# through function\n",
    "\n",
    "def multiplication_table(number):\n",
    "    for i in range(1,11):\n",
    "        total=i*number\n",
    "        print(f\"{number} x {i} = {total}\")\n",
    "\n",
    "number=int(input(\"enter the number:\"))\n",
    "multiplication_table(number)\n",
    "\n",
    "    "
   ]
  },
  {
   "cell_type": "markdown",
   "id": "8ae180e3-3418-4fb5-b8a2-be40ce598e88",
   "metadata": {},
   "source": [
    "# 3. Write a Python Program to Print the Fibonacci sequence?"
   ]
  },
  {
   "cell_type": "code",
   "execution_count": 20,
   "id": "339248ba-f218-4a77-babb-dfb12097096c",
   "metadata": {},
   "outputs": [
    {
     "name": "stdout",
     "output_type": "stream",
     "text": [
      "[0, 1, 1, 2, 3, 5, 8, 13, 21, 34, 55]\n"
     ]
    }
   ],
   "source": [
    "def my_fibnoacci(n):\n",
    "    fibo_list=[]\n",
    "    a,b = 0,1\n",
    "    for _ in range(n):\n",
    "        fibo_list.append(a)\n",
    "        a,b = b,a+b\n",
    "    return fibo_list \n",
    "    \n",
    "if __name__ == \"__main__\":\n",
    "    print(my_fibnoacci(11))"
   ]
  },
  {
   "cell_type": "code",
   "execution_count": 49,
   "id": "1e33daca-f434-4f5b-88fc-c5393c21d243",
   "metadata": {},
   "outputs": [
    {
     "name": "stdin",
     "output_type": "stream",
     "text": [
      "Enter Any Number 7\n"
     ]
    },
    {
     "name": "stdout",
     "output_type": "stream",
     "text": [
      "0\n",
      "1\n",
      "1\n",
      "2\n",
      "3\n",
      "5\n",
      "8\n"
     ]
    }
   ],
   "source": [
    "def fibonacchi_seriese(number):\n",
    "\n",
    "    a=0\n",
    "    b=1\n",
    "    sum1=0\n",
    "    if number<=0:\n",
    "        print(\"enter value more then zero\")\n",
    "    else:\n",
    "        for i in range(1,number):\n",
    "            print(sum1)\n",
    "            a=b\n",
    "            b=sum1\n",
    "            sum1=a+b\n",
    "        print(sum1) \n",
    "\n",
    "number=int(input(\"Enter Any Number\"))\n",
    "fibonacchi_seriese(number)"
   ]
  },
  {
   "cell_type": "markdown",
   "id": "1a8be641-12d2-48ea-932a-1f62833ca561",
   "metadata": {},
   "source": [
    "# 4. Write a Python Program to Check Armstrong Number?"
   ]
  },
  {
   "cell_type": "code",
   "execution_count": 59,
   "id": "f83801ef-d210-4131-b8d0-60834ac2dd9c",
   "metadata": {},
   "outputs": [
    {
     "name": "stdin",
     "output_type": "stream",
     "text": [
      "Enter the Number 144\n"
     ]
    },
    {
     "ename": "TypeError",
     "evalue": "'int' object is not iterable",
     "output_type": "error",
     "traceback": [
      "\u001b[1;31m---------------------------------------------------------------------------\u001b[0m",
      "\u001b[1;31mTypeError\u001b[0m                                 Traceback (most recent call last)",
      "Cell \u001b[1;32mIn[59], line 5\u001b[0m\n\u001b[0;32m      2\u001b[0m str1\u001b[38;5;241m=\u001b[39m\u001b[38;5;28mstr\u001b[39m(num1)\n\u001b[0;32m      3\u001b[0m length\u001b[38;5;241m=\u001b[39m\u001b[38;5;28mlen\u001b[39m(str1)\n\u001b[1;32m----> 5\u001b[0m \u001b[38;5;28;01mfor\u001b[39;00m item \u001b[38;5;129;01min\u001b[39;00m num1:\n\u001b[0;32m      6\u001b[0m     total\u001b[38;5;241m=\u001b[39m\u001b[38;5;241m0\u001b[39m\n\u001b[0;32m      7\u001b[0m     total\u001b[38;5;241m=\u001b[39m total\u001b[38;5;241m+\u001b[39m\u001b[38;5;28mint\u001b[39m(item)\u001b[38;5;241m*\u001b[39m\u001b[38;5;241m*\u001b[39mlength\n",
      "\u001b[1;31mTypeError\u001b[0m: 'int' object is not iterable"
     ]
    }
   ],
   "source": [
    "num1=int(input(\"Enter the Number\"))\n",
    "str1=str(num1)\n",
    "length=len(str1)\n",
    "\n",
    "for item in num1:\n",
    "    total=0\n",
    "    total= total+int(item)**length\n",
    "    if total==num1:\n",
    "        print(f\"{num1} is a armstrong Number\")\n",
    "    else:\n",
    "        print(f\"{num1} is not a armstrong Number\")\n",
    "     \n",
    "        \n",
    "print(total)\n"
   ]
  },
  {
   "cell_type": "markdown",
   "id": "06c3708e-7ae8-4c3d-a113-d9f378d2a960",
   "metadata": {},
   "source": [
    "# 5. Write a Python Program to Find the Sum of Natural Numbers?"
   ]
  },
  {
   "cell_type": "code",
   "execution_count": 18,
   "id": "d1f5210c-8832-4581-9f49-4e23188dacea",
   "metadata": {},
   "outputs": [
    {
     "name": "stdin",
     "output_type": "stream",
     "text": [
      "Enter any natural number 13\n"
     ]
    },
    {
     "name": "stdout",
     "output_type": "stream",
     "text": [
      "sum of first 13 natural number is 91.0\n"
     ]
    }
   ],
   "source": [
    "num=int(input(\"Enter any natural number\"))\n",
    "\n",
    "if num<=0:\n",
    "    print(\"Enter value more then, 0\")\n",
    "else:\n",
    "    sum1=num*(num+1)/2\n",
    "    print(f\"sum of first {num} natural number is {sum1}\")"
   ]
  },
  {
   "cell_type": "code",
   "execution_count": 47,
   "id": "0acaf49d-5d44-47ea-a4df-a1bf2760583e",
   "metadata": {},
   "outputs": [
    {
     "name": "stdout",
     "output_type": "stream",
     "text": [
      "hsihsa\n"
     ]
    }
   ],
   "source": [
    "# program to reverse a string with using loop.\n",
    "\n",
    "a=\"ashish\"\n",
    "reverse=\"\"\n",
    "for item in a:\n",
    "    reverse = item+reverse    \n",
    "print(reverse)    \n",
    "    \n",
    "    \n",
    "\n",
    "    "
   ]
  }
 ],
 "metadata": {
  "kernelspec": {
   "display_name": "Python 3 (ipykernel)",
   "language": "python",
   "name": "python3"
  },
  "language_info": {
   "codemirror_mode": {
    "name": "ipython",
    "version": 3
   },
   "file_extension": ".py",
   "mimetype": "text/x-python",
   "name": "python",
   "nbconvert_exporter": "python",
   "pygments_lexer": "ipython3",
   "version": "3.12.7"
  }
 },
 "nbformat": 4,
 "nbformat_minor": 5
}
